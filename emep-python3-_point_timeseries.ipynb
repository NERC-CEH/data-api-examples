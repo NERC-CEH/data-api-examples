{
  "nbformat": 4,
  "nbformat_minor": 0,
  "metadata": {
    "kernelspec": {
      "name": "python3",
      "display_name": "Python 3"
    }
  },
  "cells": [
  {
    "cell_type": "markdown",
    "metadata": {
      "colab_type": "text",
      "id": "intro",
      "colab": {}
    },
    "source": [
      "# EMEP Data API\n",
      "\n",
      "EMEP is an off-line atmospheric chemistry transport model capable of representing the UK hourly atmospheric composition at a horizontal scale ranging from 100 km to 1 km\n",
      "\n",
      "**Server** [/1.0/emep](https://data-api.staging.ceh.ac.uk/1.0/emep)\n",
      "\n",
      "**Documentation** <https://data-api.staging.ceh.ac.uk/docs/emep>\n",
      "\n",
      "## /point/timeseries\n",
      "\n",
      "Extract timeseries variables for a point\n",
      "\n",
      "### 🔒 Authentication\n",
      "\n",
      "Create a token with [Data API Auth](https://data-api-auth.staging.ceh.ac.uk/) with the following **LICENCES** (UNKNOWN1, UNKNOWN2)\n",
      "\n",
      "To see more detail on the API please read the **Document** [/reduceSpace/{variable}](https://data-api.staging.ceh.ac.uk/docs/emep?path=0)\n"
    ]
  },
  {
    "cell_type": "markdown",
    "metadata": {
      "colab_type": "text",
      "id": "step_1",
      "colab": {}
    },
    "source": [
      "## Step 1: Install dependencies\n"
    ]
  },
  {
    "cell_type": "code",
    "metadata": {
      "colab_type": "code",
      "id": "step_1",
      "colab": {}
    },
    "source": [
      "%pip install requests\n"
    ],
    "execution_count": 0,
    "outputs": []
  },
  {
    "cell_type": "markdown",
    "metadata": {
      "colab_type": "text",
      "id": "step_2",
      "colab": {}
    },
    "source": [
      "## Step 2: Set the token\n",
      "\n",
      "**WARNING** do not share tokens publicly, get them from secure environment varibales or secure files. You can revoke a token at anytime and set the expirey such that if you do intend to share a notebook you do not compramise your tokens.\n"
    ]
  },
  {
    "cell_type": "code",
    "metadata": {
      "colab_type": "code",
      "id": "step_2",
      "colab": {}
    },
    "source": [
      "from getpass import getpass\n",
      "token = getpass('Enter token: ')\n"
    ],
    "execution_count": 0,
    "outputs": []
  },
  {
    "cell_type": "markdown",
    "metadata": {
      "colab_type": "text",
      "id": "step_3",
      "colab": {}
    },
    "source": [
      "## Step 3: Request the data\n",
      "\n",
      "If you intend to run this step repeatedly then consider caching the return. You might want to do this for scripts which is shared among several users.\n"
    ]
  },
  {
    "cell_type": "code",
    "metadata": {
      "colab_type": "code",
      "id": "step_3",
      "colab": {}
    },
    "source": [
      "import requests\n",
      "\n",
      "headers = {\n",
      "  \"accept\": \"text/csv\",\n",
      "  \"authorization\": \"Bearer {}\".format(token)\n",
      "}\n",
      "\n",
      "params = {\n",
      "  \"dateFrom\": \"2001-01-03\",\n",
      "  \"dateTo\": \"2001-01-05\",\n",
      "  \"lat\": 53.08,\n",
      "  \"lon\": -3.54,\n",
      "  \"variables\": [\n",
      "    \"SURF_ug_PM25\",\n",
      "    \"SURF_ug_PPM_C\"\n",
      "  ]\n",
      "}\n",
      "\n",
      "r = requests.get(\n",
      "    \"https://data-api.staging.ceh.ac.uk/1.0/emep/point/timeseries\",\n",
      "    headers=headers,\n",
      "    params=params\n",
      ")\n"
    ],
    "execution_count": 0,
    "outputs": []
  },
  {
    "cell_type": "markdown",
    "metadata": {
      "colab_type": "text",
      "id": "step_4",
      "colab": {}
    },
    "source": [
      "## Step 4: Convert to Dataframe\n"
    ]
  },
  {
    "cell_type": "code",
    "metadata": {
      "colab_type": "code",
      "id": "step_4",
      "colab": {}
    },
    "source": [
      "from io import StringIO\n",
      "import pandas as pd\n",
      "\n",
      "data = pd.read_csv(StringIO(r.text))\n"
    ],
    "execution_count": 0,
    "outputs": []
  },
  {
    "cell_type": "markdown",
    "metadata": {
      "colab_type": "text",
      "id": "step_5",
      "colab": {}
    },
    "source": [
      "## Step 5: Consume the data (example plot)\n"
    ]
  },
  {
    "cell_type": "code",
    "metadata": {
      "colab_type": "code",
      "id": "step_5",
      "colab": {}
    },
    "source": [
      "import matplotlib.pyplot as plt\n",
      "\n",
      "# gca stands for 'get current axis'\n",
      "ax = plt.gca()\n",
      "\n",
      "for key in data.keys():\n",
      "  if key != 'time':\n",
      "    data.plot(kind='line', x='time', y=key, ax=ax)\n",
      "\n",
      "plt.show()\n"
    ],
    "execution_count": 0,
    "outputs": []
  }
]
}