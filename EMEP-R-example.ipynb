{
  "nbformat": 4,
  "nbformat_minor": 0,
  "metadata": {
    "colab": {
      "name": "R-example.ipynb",
      "provenance": [],
      "authorship_tag": "ABX9TyMqFT4kdWB71iqbhRU53N58",
      "include_colab_link": true
    },
    "kernelspec": {
      "name": "ir",
      "display_name": "R"
    }
  },
  "cells": [
    {
      "cell_type": "markdown",
      "metadata": {
        "id": "view-in-github",
        "colab_type": "text"
      },
      "source": [
        "<a href=\"https://colab.research.google.com/github/NERC-CEH/data-api-examples/blob/master/EMEP-R-example.ipynb\" target=\"_parent\"><img src=\"https://colab.research.google.com/assets/colab-badge.svg\" alt=\"Open In Colab\"/></a>"
      ]
    },
    {
      "cell_type": "code",
      "metadata": {
        "id": "TKmxzUF4sKXo",
        "colab_type": "code",
        "colab": {}
      },
      "source": [
        "library(httr)"
      ],
      "execution_count": 0,
      "outputs": []
    },
    {
      "cell_type": "code",
      "metadata": {
        "id": "rUs59MbYsyFL",
        "colab_type": "code",
        "colab": {}
      },
      "source": [
        "r <- GET(\"https://catalogue.ceh.ac.uk/eidc/documents\")\n",
        "status_code(r)\n",
        "headers(r)\n",
        "str(content(r))"
      ],
      "execution_count": 0,
      "outputs": []
    },
    {
      "cell_type": "code",
      "metadata": {
        "id": "Ax87sEpOvqYx",
        "colab_type": "code",
        "colab": {}
      },
      "source": [
        "library(jsonlite)"
      ],
      "execution_count": 0,
      "outputs": []
    },
    {
      "cell_type": "code",
      "metadata": {
        "id": "gxU2xIrfwiUU",
        "colab_type": "code",
        "colab": {}
      },
      "source": [
        "search <- fromJSON(\"https://catalogue.ceh.ac.uk/eidc/documents\")\n",
        "search$numFound\n",
        "search$url"
      ],
      "execution_count": 0,
      "outputs": []
    },
    {
      "cell_type": "code",
      "metadata": {
        "id": "yyyUNgATwwAM",
        "colab_type": "code",
        "colab": {}
      },
      "source": [
        ""
      ],
      "execution_count": 0,
      "outputs": []
    }
  ]
}