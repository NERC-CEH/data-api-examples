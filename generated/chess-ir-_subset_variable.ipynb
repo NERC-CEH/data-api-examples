{
  "nbformat": 4,
  "nbformat_minor": 0,
  "metadata": {
    "kernelspec": {
      "name": "ir",
      "display_name": "R"
    }
  },
  "cells": [
  {
    "cell_type": "markdown",
    "metadata": {
      "colab_type": "text",
      "id": "intro",
      "colab": {}
    },
    "source": [
      "# CHESS\n",
      "\n",
      "The Climate hydrology and ecology research support system (CHESS) provides high-resolution  gridded datasets for environmental research. This api provides access to the CHESS 1km gridded meteorological variables over  Great Britain for the years 1961-2015. It contains time series of daily mean values of air  temperature (K), specific humidity (kg kg-1), wind speed (m s-1), downward longwave radiation  (W m-2), downward shortwave radiation (W m-2), precipitation (kg m-2 s-2) and air pressure (Pa),  plus daily temperature range (K).\n",
      "\n",
      "**Server** [/v0/b745e7b1-626c-4ccc-ac27-56582e77b900](http://localhost:8080/v0/b745e7b1-626c-4ccc-ac27-56582e77b900)\n",
      "\n",
      "**Documentation** <http://localhost:8080/docs/chess>\n",
      "\n",
      "## /subset/{variable}\n",
      "\n",
      "For a given variable in the dataset, the subset cube of data is extracted and returned as netcdf\n",
      "\n",
      "### 🔒 Authentication\n",
      "\n",
      "Create a token with [Data API Auth](https://data-api-auth.staging.ceh.ac.uk/) with the following **LICENCES** (UNKNOWN1, UNKNOWN2)\n",
      "\n",
      "To see more detail on the API please read the **Document** [/reduceSpace/{variable}](http://localhost:8080/docs/chess?path=2)\n"
    ]
  },
  {
    "cell_type": "markdown",
    "metadata": {
      "colab_type": "text",
      "id": "step_1",
      "colab": {}
    },
    "source": [
      "## Step 1: Install dependencies\n"
    ]
  },
  {
    "cell_type": "code",
    "metadata": {
      "colab_type": "code",
      "id": "step_1",
      "colab": {}
    },
    "source": [
      "install.packages(\"httr\")\n",
      "install.packages(\"readr\")\n",
      "install.packages(\"ggplot2\")\n",
      "install.packages(\"getPass\")\n",
      "install.packages('ncdf4')\n"
    ],
    "execution_count": 0,
    "outputs": []
  },
  {
    "cell_type": "markdown",
    "metadata": {
      "colab_type": "text",
      "id": "step_2",
      "colab": {}
    },
    "source": [
      "## Step 2: Set the token\n",
      "\n",
      "**WARNING** do not share tokens publicly, get them from secure environment varibales or secure files. You can revoke a token at anytime and set the expirey such that if you do intend to share a notebook you do not compramise your tokens.\n"
    ]
  },
  {
    "cell_type": "code",
    "metadata": {
      "colab_type": "code",
      "id": "step_2",
      "colab": {}
    },
    "source": [
      "token <- getPass::getPass(\"Enter the token: \")\n"
    ],
    "execution_count": 0,
    "outputs": []
  },
  {
    "cell_type": "markdown",
    "metadata": {
      "colab_type": "text",
      "id": "step_3",
      "colab": {}
    },
    "source": [
      "## Step 3: Request the data\n",
      "\n",
      "If you intend to run this step repeatedly then consider caching the return. You might want to do this for scripts which is shared among several users.\n"
    ]
  },
  {
    "cell_type": "code",
    "metadata": {
      "colab_type": "code",
      "id": "step_3",
      "colab": {}
    },
    "source": [
      "library(httr)\n",
      "\n",
      "r <- GET(\n",
      "  \"http://localhost:8080/v0/b745e7b1-626c-4ccc-ac27-56582e77b900/subset/variable\",\n",
      "  add_headers(accept = \"application/x-netcdf\", authorization = paste(\"Bearer\", token)),\n",
      "  query = list(dateFrom=\"2015-01-01\", dateTo=\"2015-01-02\", north=\"200700\", south=\"199700\", east=\"400900\", west=\"399900\"),\n",
      "write_disk('file.nc', overwrite = TRUE)\n",
      ")\n"
    ],
    "execution_count": 0,
    "outputs": []
  },
  {
    "cell_type": "markdown",
    "metadata": {
      "colab_type": "text",
      "id": "step_4",
      "colab": {}
    },
    "source": [
      "## Step 4: Read netCDF into Dataframe\n"
    ]
  },
  {
    "cell_type": "code",
    "metadata": {
      "colab_type": "code",
      "id": "step_4",
      "colab": {}
    },
    "source": [
      "library(ncdf4)\n",
      "\n",
      "data = nc_open('file.nc')\n"
    ],
    "execution_count": 0,
    "outputs": []
  }
]
}