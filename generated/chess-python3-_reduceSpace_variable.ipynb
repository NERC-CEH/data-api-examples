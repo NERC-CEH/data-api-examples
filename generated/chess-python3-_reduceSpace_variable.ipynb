{
  "nbformat": 4,
  "nbformat_minor": 0,
  "metadata": {
    "kernelspec": {
      "name": "python3",
      "display_name": "Python 3"
    }
  },
  "cells": [
  {
    "cell_type": "markdown",
    "metadata": {
      "colab_type": "text",
      "id": "intro",
      "colab": {}
    },
    "source": [
      "# CHESS\n",
      "\n",
      "The Climate hydrology and ecology research support system (CHESS) provides high-resolution  gridded datasets for environmental research. This api provides access to the CHESS 1km gridded meteorological variables over  Great Britain for the years 1961-2015. It contains time series of daily mean values of air  temperature (K), specific humidity (kg kg-1), wind speed (m s-1), downward longwave radiation  (W m-2), downward shortwave radiation (W m-2), precipitation (kg m-2 s-2) and air pressure (Pa),  plus daily temperature range (K).\n",
      "\n",
      "**Server** [/v0/b745e7b1-626c-4ccc-ac27-56582e77b900](http://localhost:8080/v0/b745e7b1-626c-4ccc-ac27-56582e77b900)\n",
      "\n",
      "**Documentation** <http://localhost:8080/docs/chess>\n",
      "\n",
      "## /reduceSpace/{variable}\n",
      "\n",
      "For a given variable in the dataset, the specified metric (eg mean, max, min) is calculated across all grid cells for each time interval of the subset of data specified.  The response is a geojson object.  The no data value used is -99999.\n",
      "\n",
      "### 🔒 Authentication\n",
      "\n",
      "Create a token with [Data API Auth](https://data-api-auth.staging.ceh.ac.uk/) with the following **LICENCES** (UNKNOWN1, UNKNOWN2)\n",
      "\n",
      "To see more detail on the API please read the **Document** [/reduceSpace/{variable}](http://localhost:8080/docs/chess?path=0)\n"
    ]
  },
  {
    "cell_type": "markdown",
    "metadata": {
      "colab_type": "text",
      "id": "step_1",
      "colab": {}
    },
    "source": [
      "## Step 1: Install dependencies\n"
    ]
  },
  {
    "cell_type": "code",
    "metadata": {
      "colab_type": "code",
      "id": "step_1",
      "colab": {}
    },
    "source": [
      "%pip install requests\n"
    ],
    "execution_count": 0,
    "outputs": []
  },
  {
    "cell_type": "markdown",
    "metadata": {
      "colab_type": "text",
      "id": "step_2",
      "colab": {}
    },
    "source": [
      "## Step 2: Set the token\n",
      "\n",
      "**WARNING** do not share tokens publicly, get them from secure environment varibales or secure files. You can revoke a token at anytime and set the expirey such that if you do intend to share a notebook you do not compramise your tokens.\n"
    ]
  },
  {
    "cell_type": "code",
    "metadata": {
      "colab_type": "code",
      "id": "step_2",
      "colab": {}
    },
    "source": [
      "from getpass import getpass\n",
      "token = getpass('Enter token: ')\n"
    ],
    "execution_count": 0,
    "outputs": []
  },
  {
    "cell_type": "markdown",
    "metadata": {
      "colab_type": "text",
      "id": "step_3",
      "colab": {}
    },
    "source": [
      "## Step 3: Request the data\n",
      "\n",
      "If you intend to run this step repeatedly then consider caching the return. You might want to do this for scripts which is shared among several users.\n"
    ]
  },
  {
    "cell_type": "code",
    "metadata": {
      "colab_type": "code",
      "id": "step_3",
      "colab": {}
    },
    "source": [
      "import requests\n",
      "\n",
      "headers = {\n",
      "  \"accept\": \"text/csv\",\n",
      "  \"authorization\": \"Bearer {}\".format(token)\n",
      "}\n",
      "\n",
      "params = {\n",
      "  \"dateFrom\": \"2015-01-01\",\n",
      "  \"dateTo\": \"2015-01-02\",\n",
      "  \"north\": 200700,\n",
      "  \"south\": 199700,\n",
      "  \"east\": 400900,\n",
      "  \"west\": 399900,\n",
      "  \"metric\": \"count\"\n",
      "}\n",
      "\n",
      "r = requests.get(\n",
      "    \"http://localhost:8080/v0/b745e7b1-626c-4ccc-ac27-56582e77b900/reduceSpace/variable\",\n",
      "    headers=headers,\n",
      "    params=params\n",
      ")\n"
    ],
    "execution_count": 0,
    "outputs": []
  },
  {
    "cell_type": "markdown",
    "metadata": {
      "colab_type": "text",
      "id": "step_4",
      "colab": {}
    },
    "source": [
      "## Step 4: Convert to Dataframe\n"
    ]
  },
  {
    "cell_type": "code",
    "metadata": {
      "colab_type": "code",
      "id": "step_4",
      "colab": {}
    },
    "source": [
      "from io import StringIO\n",
      "import pandas as pd\n",
      "\n",
      "data = pd.read_csv(StringIO(r.text))\n"
    ],
    "execution_count": 0,
    "outputs": []
  },
  {
    "cell_type": "markdown",
    "metadata": {
      "colab_type": "text",
      "id": "step_5",
      "colab": {}
    },
    "source": [
      "## Step 5: Consume the data (example plot)\n"
    ]
  },
  {
    "cell_type": "code",
    "metadata": {
      "colab_type": "code",
      "id": "step_5",
      "colab": {}
    },
    "source": [
      "import matplotlib.pyplot as plt\n",
      "\n",
      "# gca stands for 'get current axis'\n",
      "ax = plt.gca()\n",
      "\n",
      "for key in data.keys():\n",
      "  if key != 'time':\n",
      "    data.plot(kind='line', x='time', y=key, ax=ax)\n",
      "\n",
      "plt.show()\n"
    ],
    "execution_count": 0,
    "outputs": []
  }
]
}