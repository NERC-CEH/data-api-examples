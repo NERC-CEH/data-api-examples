{
 "cells": [
  {
   "cell_type": "markdown",
   "metadata": {
    "colab": {},
    "colab_type": "text",
    "id": "intro"
   },
   "source": [
    "# EMEP Data API\n",
    "\n",
    "EMEP is an off-line atmospheric chemistry transport model capable of representing the UK hourly atmospheric composition at a horizontal scale ranging from 100 km to 1 km\n",
    "\n",
    "**Server** [/1.0/emep](https://data-api.staging.ceh.ac.uk/1.0/emep)\n",
    "\n",
    "**Documentation** <https://data-api.staging.ceh.ac.uk/docs/emep>\n",
    "\n",
    "## /spatial\n",
    "\n",
    "Extract NetCDF for a variable for a year\n",
    "\n",
    "### 🔒 Authentication\n",
    "\n",
    "Create a token with [Data API Auth](https://data-api-auth.staging.ceh.ac.uk/) with the following **LICENCES** (UNKNOWN1, UNKNOWN2)\n",
    "\n",
    "To see more detail on the API please read the **Document** [/reduceSpace/{variable}](https://data-api.staging.ceh.ac.uk/docs/emep?path=1)\n"
   ]
  },
  {
   "cell_type": "markdown",
   "metadata": {
    "colab": {},
    "colab_type": "text",
    "id": "step_1"
   },
   "source": [
    "## Step 1: Install dependencies\n"
   ]
  },
  {
   "cell_type": "code",
   "execution_count": 0,
   "metadata": {
    "colab": {},
    "colab_type": "code",
    "id": "step_1"
   },
   "outputs": [],
   "source": [
    "install.packages(\"httr\")\n",
    "install.packages(\"readr\")\n",
    "install.packages(\"ggplot2\")\n",
    "install.packages(\"getPass\")\n",
    "install.packages('ncdf4')\n"
   ]
  },
  {
   "cell_type": "markdown",
   "metadata": {
    "colab": {},
    "colab_type": "text",
    "id": "step_2"
   },
   "source": [
    "## Step 2: Set the token\n",
    "\n",
    "**WARNING** do not share tokens publicly, get them from secure environment varibales or secure files. You can revoke a token at anytime and set the expirey such that if you do intend to share a notebook you do not compramise your tokens.\n"
   ]
  },
  {
   "cell_type": "code",
   "execution_count": 0,
   "metadata": {
    "colab": {},
    "colab_type": "code",
    "id": "step_2"
   },
   "outputs": [],
   "source": [
    "token <- getPass::getPass(\"Enter the token: \")\n"
   ]
  },
  {
   "cell_type": "markdown",
   "metadata": {
    "colab": {},
    "colab_type": "text",
    "id": "step_3"
   },
   "source": [
    "## Step 3: Request the data\n",
    "\n",
    "If you intend to run this step repeatedly then consider caching the return. You might want to do this for scripts which is shared among several users.\n"
   ]
  },
  {
   "cell_type": "code",
   "execution_count": 0,
   "metadata": {
    "colab": {},
    "colab_type": "code",
    "id": "step_3"
   },
   "outputs": [],
   "source": [
    "library(httr)\n",
    "\n",
    "r <- GET(\n",
    "  \"https://data-api.staging.ceh.ac.uk/1.0/emep/spatial\",\n",
    "  add_headers(accept = \"application/x-netcdf\", authorization = paste(\"Bearer\", token)),\n",
    "  query = list(variable=\"SURF_ug_PM25\", year=\"2001\"),\n",
    "write_disk('file.nc', overwrite = TRUE)\n",
    ")\n"
   ]
  },
  {
   "cell_type": "markdown",
   "metadata": {
    "colab": {},
    "colab_type": "text",
    "id": "step_4"
   },
   "source": [
    "## Step 4: Read netCDF into Dataframe\n"
   ]
  },
  {
   "cell_type": "code",
   "execution_count": 0,
   "metadata": {
    "colab": {},
    "colab_type": "code",
    "id": "step_4"
   },
   "outputs": [],
   "source": [
    "library(ncdf4)\n",
    "\n",
    "df = nc_open('file.nc')\n"
   ]
  }
 ],
 "metadata": {
  "kernelspec": {
   "display_name": "R",
   "language": "R",
   "name": "ir"
  },
  "language_info": {
   "codemirror_mode": "r",
   "file_extension": ".r",
   "mimetype": "text/x-r-source",
   "name": "R",
   "pygments_lexer": "r",
   "version": "3.4.4"
  }
 },
 "nbformat": 4,
 "nbformat_minor": 1
}
