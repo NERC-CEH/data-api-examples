{
  "nbformat": 4,
  "nbformat_minor": 0,
  "metadata": {
    "kernelspec": {
      "name": "ir",
      "display_name": "R"
    }
  },
  "cells": [
  {
    "cell_type": "markdown",
    "metadata": {
      "colab_type": "text",
      "id": "intro",
      "colab": {}
    },
    "source": [
      "# EMEP\n",
      "\n",
      "EMEP is an off-line atmospheric chemistry transport model capable of representing the UK hourly atmospheric composition at a horizontal scale ranging from 100 km to 1 km\n",
      "\n",
      "**Server** [/1.0/emep](http://localhost:8080/1.0/emep)\n",
      "\n",
      "**Documentation** <http://localhost:8080/docs/emep>\n",
      "\n",
      "## /point/station/{station}\n",
      "\n",
      "Extract timeseries variables for a AURN station\n",
      "\n",
      "### 🔒 Authentication\n",
      "\n",
      "Create a token with [Data API Auth](https://data-api-auth.staging.ceh.ac.uk/) with the following **LICENCES** (UNKNOWN1, UNKNOWN2)\n",
      "\n",
      "To see more detail on the API please read the **Document** [/reduceSpace/{variable}](http://localhost:8080/docs/emep?path=0)\n"
    ]
  },
  {
    "cell_type": "markdown",
    "metadata": {
      "colab_type": "text",
      "id": "step_1",
      "colab": {}
    },
    "source": [
      "## Step 1: Install dependencies\n"
    ]
  },
  {
    "cell_type": "code",
    "metadata": {
      "colab_type": "code",
      "id": "step_1",
      "colab": {}
    },
    "source": [
      "install.packages(\"httr\")\n",
      "install.packages(\"readr\")\n",
      "install.packages(\"ggplot2\")\n",
      "install.packages(\"getPass\")\n",
      "install.packages('ncdf4')\n"
    ],
    "execution_count": 0,
    "outputs": []
  },
  {
    "cell_type": "markdown",
    "metadata": {
      "colab_type": "text",
      "id": "step_2",
      "colab": {}
    },
    "source": [
      "## Step 2: Set the token\n",
      "\n",
      "**WARNING** do not share tokens publicly, get them from secure environment varibales or secure files. You can revoke a token at anytime and set the expirey such that if you do intend to share a notebook you do not compramise your tokens.\n"
    ]
  },
  {
    "cell_type": "code",
    "metadata": {
      "colab_type": "code",
      "id": "step_2",
      "colab": {}
    },
    "source": [
      "token <- getPass::getPass(\"Enter the token: \")\n"
    ],
    "execution_count": 0,
    "outputs": []
  },
  {
    "cell_type": "markdown",
    "metadata": {
      "colab_type": "text",
      "id": "step_3",
      "colab": {}
    },
    "source": [
      "## Step 3: Request the data\n",
      "\n",
      "If you intend to run this step repeatedly then consider caching the return. You might want to do this for scripts which is shared among several users.\n"
    ]
  },
  {
    "cell_type": "code",
    "metadata": {
      "colab_type": "code",
      "id": "step_3",
      "colab": {}
    },
    "source": [
      "library(httr)\n",
      "\n",
      "r <- GET(\n",
      "  \"http://localhost:8080/1.0/emep/point/station/BEX\",\n",
      "  add_headers(accept = \"text/csv\", authorization = paste(\"Bearer\", token)),\n",
      "  query = list(dateFrom=\"2001-01-03\", dateTo=\"2001-01-05\", variables=\"SURF_ug_PM25\", variables=\"SURF_ug_PPM_C\")\n",
      ")\n"
    ],
    "execution_count": 0,
    "outputs": []
  },
  {
    "cell_type": "markdown",
    "metadata": {
      "colab_type": "text",
      "id": "step_4",
      "colab": {}
    },
    "source": [
      "## Step 4: Convert to Dataframe\n"
    ]
  },
  {
    "cell_type": "code",
    "metadata": {
      "colab_type": "code",
      "id": "step_4",
      "colab": {}
    },
    "source": [
      "data <- content(r, type = \"text/csv\")\n"
    ],
    "execution_count": 0,
    "outputs": []
  },
  {
    "cell_type": "markdown",
    "metadata": {
      "colab_type": "text",
      "id": "step_5",
      "colab": {}
    },
    "source": [
      "## Step 5: Consume the data (example plot)\n"
    ]
  },
  {
    "cell_type": "code",
    "metadata": {
      "colab_type": "code",
      "id": "step_5",
      "colab": {}
    },
    "source": [
      "library(\"tidyr\")\n",
      "library(ggplot2)\n",
      "\n",
      "data %>%\n",
      "  gather(key, value, colnames(data)[2:length((data))]) %>%\n",
      "    ggplot(aes(x=time, y=value, colour=key)) +\n",
      "    geom_line()\n"
    ],
    "execution_count": 0,
    "outputs": []
  }
]
}