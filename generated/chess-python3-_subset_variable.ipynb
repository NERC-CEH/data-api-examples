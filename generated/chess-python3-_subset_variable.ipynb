{
  "nbformat": 4,
  "nbformat_minor": 0,
  "metadata": {
    "kernelspec": {
      "name": "python3",
      "display_name": "Python 3"
    }
  },
  "cells": [
  {
    "cell_type": "markdown",
    "metadata": {
      "colab_type": "text",
      "id": "intro",
      "colab": {}
    },
    "source": [
      "# CHESS\n",
      "\n",
      "The Climate hydrology and ecology research support system (CHESS) provides high-resolution  gridded datasets for environmental research. This api provides access to the CHESS 1km gridded meteorological variables over  Great Britain for the years 1961-2015. It contains time series of daily mean values of air  temperature (K), specific humidity (kg kg-1), wind speed (m s-1), downward longwave radiation  (W m-2), downward shortwave radiation (W m-2), precipitation (kg m-2 s-2) and air pressure (Pa),  plus daily temperature range (K).\n",
      "\n",
      "**Server** [/v0/b745e7b1-626c-4ccc-ac27-56582e77b900](http://localhost:8080/v0/b745e7b1-626c-4ccc-ac27-56582e77b900)\n",
      "\n",
      "**Documentation** <http://localhost:8080/docs/chess>\n",
      "\n",
      "## /subset/{variable}\n",
      "\n",
      "For a given variable in the dataset, the subset cube of data is extracted and returned as netcdf\n",
      "\n",
      "### 🔒 Authentication\n",
      "\n",
      "Create a token with [Data API Auth](https://data-api-auth.staging.ceh.ac.uk/) with the following **LICENCES** (UNKNOWN1, UNKNOWN2)\n",
      "\n",
      "To see more detail on the API please read the **Document** [/reduceSpace/{variable}](http://localhost:8080/docs/chess?path=2)\n"
    ]
  },
  {
    "cell_type": "markdown",
    "metadata": {
      "colab_type": "text",
      "id": "step_1",
      "colab": {}
    },
    "source": [
      "## Step 1: Install dependencies\n"
    ]
  },
  {
    "cell_type": "code",
    "metadata": {
      "colab_type": "code",
      "id": "step_1",
      "colab": {}
    },
    "source": [
      "%pip install requests\n"
    ],
    "execution_count": 0,
    "outputs": []
  },
  {
    "cell_type": "markdown",
    "metadata": {
      "colab_type": "text",
      "id": "step_2",
      "colab": {}
    },
    "source": [
      "## Step 2: Set the token\n",
      "\n",
      "**WARNING** do not share tokens publicly, get them from secure environment varibales or secure files. You can revoke a token at anytime and set the expirey such that if you do intend to share a notebook you do not compramise your tokens.\n"
    ]
  },
  {
    "cell_type": "code",
    "metadata": {
      "colab_type": "code",
      "id": "step_2",
      "colab": {}
    },
    "source": [
      "from getpass import getpass\n",
      "token = getpass('Enter token: ')\n"
    ],
    "execution_count": 0,
    "outputs": []
  },
  {
    "cell_type": "markdown",
    "metadata": {
      "colab_type": "text",
      "id": "step_3",
      "colab": {}
    },
    "source": [
      "## Step 3: Request the data\n",
      "\n",
      "If you intend to run this step repeatedly then consider caching the return. You might want to do this for scripts which is shared among several users.\n"
    ]
  },
  {
    "cell_type": "code",
    "metadata": {
      "colab_type": "code",
      "id": "step_3",
      "colab": {}
    },
    "source": [
      "import requests\n",
      "\n",
      "headers = {\n",
      "  \"accept\": \"application/x-netcdf\",\n",
      "  \"authorization\": \"Bearer {}\".format(token)\n",
      "}\n",
      "\n",
      "params = {\n",
      "  \"dateFrom\": \"2015-01-01\",\n",
      "  \"dateTo\": \"2015-01-02\",\n",
      "  \"north\": 200700,\n",
      "  \"south\": 199700,\n",
      "  \"east\": 400900,\n",
      "  \"west\": 399900\n",
      "}\n",
      "\n",
      "r = requests.get(\n",
      "    \"http://localhost:8080/v0/b745e7b1-626c-4ccc-ac27-56582e77b900/subset/dtr\",\n",
      "    headers=headers,\n",
      "    params=params\n",
      ")\n"
    ],
    "execution_count": 0,
    "outputs": []
  },
  {
    "cell_type": "markdown",
    "metadata": {
      "colab_type": "text",
      "id": "step_4",
      "colab": {}
    },
    "source": [
      "## Step 4: Read netCDF into Dataframe\n"
    ]
  },
  {
    "cell_type": "code",
    "metadata": {
      "colab_type": "code",
      "id": "step_4",
      "colab": {}
    },
    "source": [
      "import tempfile\n",
      "import xarray as xr\n",
      "\n",
      "file = tempfile.NamedTemporaryFile(delete=False, suffix='.nc')\n",
      "with file as output:\n",
      "    output.write(r.content)\n",
      "data = xr.open_dataset(file.name)\n"
    ],
    "execution_count": 0,
    "outputs": []
  }
]
}